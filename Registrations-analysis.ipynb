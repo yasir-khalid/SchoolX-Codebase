{
 "cells": [
  {
   "cell_type": "markdown",
   "id": "detected-method",
   "metadata": {},
   "source": [
    "### Python and Google spreadsheet connection using APIs\n",
    "knowledge base courtesy: https://www.analyticsvidhya.com/blog/2020/07/read-and-update-google-spreadsheets-with-python/\n",
    "##### Created: Yasir khalid, Property: SchoolX, Last-update: 21-Mar-2021\n",
    "GDPR compliance (personal user data such as Names, Phone numbers and location is hidden)"
   ]
  },
  {
   "cell_type": "code",
   "execution_count": 66,
   "id": "ordered-penguin",
   "metadata": {},
   "outputs": [],
   "source": [
    "import requests\n",
    "import json\n",
    "import pandas as pd\n",
    "import config\n",
    "import datetime\n",
    "\n",
    "pd.set_option('display.max_columns', None)"
   ]
  },
  {
   "cell_type": "markdown",
   "id": "distinct-values",
   "metadata": {},
   "source": [
    "#### Ecodings are just something how we store data for classes at our database; these are re-encrypted so our business team can understand the data better\n",
    "Dates stored in database are in format <'2021-03-21T15:48:42.762Z'> so date cleaning task is also performed using clean_dates() function to extract dates to <21-03-2021> format"
   ]
  },
  {
   "cell_type": "code",
   "execution_count": 3,
   "id": "combined-timber",
   "metadata": {},
   "outputs": [],
   "source": [
    "encoding = {\"5e4a4eb7cfbdec7df147f0e6\": \"A Level\",\n",
    "            \"5e4a4ee8cfbdec7df147f0e7\": \"O Level\",\n",
    "            \"5e55f9ce61482e2a85e7ecb2\": \"9th\",\n",
    "            \"5e55f9d761482e2a85e7ecb3\": \"10th\",\n",
    "            \"5e55f9f361482e2a85e7ecb4\": \"FSc Part I\",\n",
    "            \"5e55f9fa61482e2a85e7ecb5\": \"FSc Part II\"}"
   ]
  },
  {
   "cell_type": "code",
   "execution_count": 55,
   "id": "induced-commercial",
   "metadata": {},
   "outputs": [],
   "source": [
    "def clean_dates(x):\n",
    "    try:\n",
    "        return datetime.datetime.strptime(x, '%Y-%m-%dT%H:%M:%S.%fZ').strftime(\"%d-%m-%Y\")\n",
    "    except:\n",
    "        return x"
   ]
  },
  {
   "cell_type": "code",
   "execution_count": 41,
   "id": "surgical-stuff",
   "metadata": {},
   "outputs": [],
   "source": [
    "url = \"https://api.schoolx.pk/users/\"\n",
    "\n",
    "payload=\"{\\n}\"\n",
    "headers = {\n",
    "  'Authorization': config.AUTH,\n",
    "  'Content-Type': 'application/json'\n",
    "}\n",
    "parameters = {\"$limit\": 0}\n",
    "response = requests.request(\"GET\", url, headers=headers, data=payload, params=parameters)\n",
    "\n",
    "# What u get in <response> is a JSON formatted string which u want to convert to python dictionary.\n",
    "dictionary =  json.loads(response.text)"
   ]
  },
  {
   "cell_type": "markdown",
   "id": "virgin-footwear",
   "metadata": {},
   "source": [
    "#### Fetching the data from Postman API (by passing alongside necessary Authentication codes stored in config.py file (not publically released))\n",
    "Note: API calls limits the return of user entries for you. Since the users stored in database are dynamic (constantly increasing), I have first made the request with a Limit=0, from where I extract the total registrations in the system and then remake the API call with limit set to total registrations in the system (cheeky hack) "
   ]
  },
  {
   "cell_type": "code",
   "execution_count": 56,
   "id": "cubic-injury",
   "metadata": {},
   "outputs": [],
   "source": [
    "parameters = {\"$limit\": dictionary[\"total\"]}\n",
    "response = requests.request(\"GET\", url, headers=headers, data=payload, params=parameters)\n",
    "dictionary =  json.loads(response.text)\n",
    "master = pd.DataFrame(dictionary[\"data\"])"
   ]
  },
  {
   "cell_type": "code",
   "execution_count": 73,
   "id": "split-backup",
   "metadata": {},
   "outputs": [],
   "source": [
    "temp = master[['_id', 'name', 'createdAt', 'classRoom', 'phone', 'role']]"
   ]
  },
  {
   "cell_type": "code",
   "execution_count": 74,
   "id": "innocent-mandate",
   "metadata": {},
   "outputs": [
    {
     "name": "stderr",
     "output_type": "stream",
     "text": [
      "C:\\Users\\Yasir Khalid\\anaconda3\\envs\\text-mining\\lib\\site-packages\\ipykernel_launcher.py:1: SettingWithCopyWarning: \n",
      "A value is trying to be set on a copy of a slice from a DataFrame.\n",
      "Try using .loc[row_indexer,col_indexer] = value instead\n",
      "\n",
      "See the caveats in the documentation: https://pandas.pydata.org/pandas-docs/stable/user_guide/indexing.html#returning-a-view-versus-a-copy\n",
      "  \"\"\"Entry point for launching an IPython kernel.\n",
      "C:\\Users\\Yasir Khalid\\anaconda3\\envs\\text-mining\\lib\\site-packages\\ipykernel_launcher.py:2: SettingWithCopyWarning: \n",
      "A value is trying to be set on a copy of a slice from a DataFrame.\n",
      "Try using .loc[row_indexer,col_indexer] = value instead\n",
      "\n",
      "See the caveats in the documentation: https://pandas.pydata.org/pandas-docs/stable/user_guide/indexing.html#returning-a-view-versus-a-copy\n",
      "  \n"
     ]
    }
   ],
   "source": [
    "temp[\"classRoom\"] = temp['classRoom'].map(lambda x: encoding.get(x, x))\n",
    "temp['createdAt'] = temp['createdAt'].apply(clean_dates)"
   ]
  },
  {
   "cell_type": "code",
   "execution_count": 89,
   "id": "duplicate-weather",
   "metadata": {
    "scrolled": true
   },
   "outputs": [
    {
     "data": {
      "text/html": [
       "<div>\n",
       "<style scoped>\n",
       "    .dataframe tbody tr th:only-of-type {\n",
       "        vertical-align: middle;\n",
       "    }\n",
       "\n",
       "    .dataframe tbody tr th {\n",
       "        vertical-align: top;\n",
       "    }\n",
       "\n",
       "    .dataframe thead th {\n",
       "        text-align: right;\n",
       "    }\n",
       "</style>\n",
       "<table border=\"1\" class=\"dataframe\">\n",
       "  <thead>\n",
       "    <tr style=\"text-align: right;\">\n",
       "      <th></th>\n",
       "      <th>_id</th>\n",
       "      <th>classRoom</th>\n",
       "      <th>role</th>\n",
       "    </tr>\n",
       "  </thead>\n",
       "  <tbody>\n",
       "    <tr>\n",
       "      <th>0</th>\n",
       "      <td>60576adae9e8507769ecaab6</td>\n",
       "      <td>O Level</td>\n",
       "      <td>student</td>\n",
       "    </tr>\n",
       "    <tr>\n",
       "      <th>1</th>\n",
       "      <td>60576abde9e8507769ecaab5</td>\n",
       "      <td>A Level</td>\n",
       "      <td>student</td>\n",
       "    </tr>\n",
       "    <tr>\n",
       "      <th>2</th>\n",
       "      <td>60573f79e9e8507769ecaab3</td>\n",
       "      <td>O Level</td>\n",
       "      <td>student</td>\n",
       "    </tr>\n",
       "    <tr>\n",
       "      <th>3</th>\n",
       "      <td>6056341de9e8507769ecaaa0</td>\n",
       "      <td>5fc7e9d081d90062ab3d6395</td>\n",
       "      <td>student</td>\n",
       "    </tr>\n",
       "    <tr>\n",
       "      <th>4</th>\n",
       "      <td>6055f2a4e9e8507769ecaa9c</td>\n",
       "      <td>O Level</td>\n",
       "      <td>student</td>\n",
       "    </tr>\n",
       "  </tbody>\n",
       "</table>\n",
       "</div>"
      ],
      "text/plain": [
       "                        _id                 classRoom     role\n",
       "0  60576adae9e8507769ecaab6                   O Level  student\n",
       "1  60576abde9e8507769ecaab5                   A Level  student\n",
       "2  60573f79e9e8507769ecaab3                   O Level  student\n",
       "3  6056341de9e8507769ecaaa0  5fc7e9d081d90062ab3d6395  student\n",
       "4  6055f2a4e9e8507769ecaa9c                   O Level  student"
      ]
     },
     "execution_count": 89,
     "metadata": {},
     "output_type": "execute_result"
    }
   ],
   "source": [
    "temp[['_id', 'classRoom', 'role']].head()"
   ]
  },
  {
   "cell_type": "markdown",
   "id": "stainless-albania",
   "metadata": {},
   "source": [
    "### The following code utilises Google spreadsheet/ Google drive API to fetch data from the existing spreadsheet and then store it as pandas dataframe for later comparison"
   ]
  },
  {
   "cell_type": "code",
   "execution_count": 62,
   "id": "prostate-watch",
   "metadata": {},
   "outputs": [],
   "source": [
    "import gspread\n",
    "from oauth2client.service_account import ServiceAccountCredentials"
   ]
  },
  {
   "cell_type": "code",
   "execution_count": 63,
   "id": "coastal-dressing",
   "metadata": {},
   "outputs": [],
   "source": [
    "# define the scope\n",
    "scope = ['https://spreadsheets.google.com/feeds','https://www.googleapis.com/auth/drive']\n",
    "\n",
    "# add credentials to the account\n",
    "creds = ServiceAccountCredentials.from_json_keyfile_name('SchoolX-monitoring-cc64850143a1.json', scope)\n",
    "\n",
    "# authorize the clientsheet \n",
    "client = gspread.authorize(creds)"
   ]
  },
  {
   "cell_type": "code",
   "execution_count": 85,
   "id": "affected-passenger",
   "metadata": {},
   "outputs": [],
   "source": [
    "# get the instance of the Spreadsheet\n",
    "sheet = client.open('Schoolx Registration Form (Responses)')\n",
    "\n",
    "# get the first sheet of the Spreadsheet\n",
    "sheet_instance = sheet.get_worksheet(5)\n",
    "\n",
    "# sheet_instance.cell(col=1,row=2) -- To fetch a value against a particular row,column from the spreadsheet"
   ]
  },
  {
   "cell_type": "markdown",
   "id": "supposed-minority",
   "metadata": {},
   "source": [
    "#### This lists out all the records which currently exist in the user spreadsheet"
   ]
  },
  {
   "cell_type": "code",
   "execution_count": 93,
   "id": "differential-passport",
   "metadata": {},
   "outputs": [],
   "source": [
    "records_data = sheet_instance.get_all_records()"
   ]
  },
  {
   "cell_type": "code",
   "execution_count": 94,
   "id": "pleased-lease",
   "metadata": {
    "scrolled": false
   },
   "outputs": [
    {
     "data": {
      "text/html": [
       "<div>\n",
       "<style scoped>\n",
       "    .dataframe tbody tr th:only-of-type {\n",
       "        vertical-align: middle;\n",
       "    }\n",
       "\n",
       "    .dataframe tbody tr th {\n",
       "        vertical-align: top;\n",
       "    }\n",
       "\n",
       "    .dataframe thead th {\n",
       "        text-align: right;\n",
       "    }\n",
       "</style>\n",
       "<table border=\"1\" class=\"dataframe\">\n",
       "  <thead>\n",
       "    <tr style=\"text-align: right;\">\n",
       "      <th></th>\n",
       "      <th>ID</th>\n",
       "      <th>REGISTERED DATE</th>\n",
       "      <th>CLASSROOM ID</th>\n",
       "    </tr>\n",
       "  </thead>\n",
       "  <tbody>\n",
       "    <tr>\n",
       "      <th>0</th>\n",
       "      <td></td>\n",
       "      <td></td>\n",
       "      <td></td>\n",
       "    </tr>\n",
       "    <tr>\n",
       "      <th>1</th>\n",
       "      <td></td>\n",
       "      <td></td>\n",
       "      <td></td>\n",
       "    </tr>\n",
       "    <tr>\n",
       "      <th>2</th>\n",
       "      <td></td>\n",
       "      <td></td>\n",
       "      <td></td>\n",
       "    </tr>\n",
       "    <tr>\n",
       "      <th>3</th>\n",
       "      <td></td>\n",
       "      <td></td>\n",
       "      <td></td>\n",
       "    </tr>\n",
       "    <tr>\n",
       "      <th>4</th>\n",
       "      <td></td>\n",
       "      <td></td>\n",
       "      <td></td>\n",
       "    </tr>\n",
       "  </tbody>\n",
       "</table>\n",
       "</div>"
      ],
      "text/plain": [
       "  ID REGISTERED DATE CLASSROOM ID\n",
       "0                                \n",
       "1                                \n",
       "2                                \n",
       "3                                \n",
       "4                                "
      ]
     },
     "execution_count": 94,
     "metadata": {},
     "output_type": "execute_result"
    }
   ],
   "source": [
    "records_df = pd.DataFrame.from_dict(records_data)\n",
    "records_df[[\"ID\", \"REGISTERED DATE\", \"CLASSROOM ID\"]].head()"
   ]
  },
  {
   "attachments": {
    "image.png": {
     "image/png": "[encoded data removed]"
    }
   },
   "cell_type": "markdown",
   "id": "inclusive-discretion",
   "metadata": {},
   "source": [
    "#### To compare which of user data is missing from operational spreadsheet, against the new data available in our database, we perform a \"left-join\" which only holds back values which are in our main database and mutually exist in spreadsheets \n",
    "Lef-Join is performed on unique user-IDs; and then only values in Left-Table are filtered out\n",
    "    ![image.png](attachment:image.png)"
   ]
  },
  {
   "cell_type": "code",
   "execution_count": 95,
   "id": "twelve-excess",
   "metadata": {
    "scrolled": true
   },
   "outputs": [
    {
     "data": {
      "text/html": [
       "<div>\n",
       "<style scoped>\n",
       "    .dataframe tbody tr th:only-of-type {\n",
       "        vertical-align: middle;\n",
       "    }\n",
       "\n",
       "    .dataframe tbody tr th {\n",
       "        vertical-align: top;\n",
       "    }\n",
       "\n",
       "    .dataframe thead th {\n",
       "        text-align: right;\n",
       "    }\n",
       "</style>\n",
       "<table border=\"1\" class=\"dataframe\">\n",
       "  <thead>\n",
       "    <tr style=\"text-align: right;\">\n",
       "      <th></th>\n",
       "      <th>_id</th>\n",
       "      <th>createdAt</th>\n",
       "      <th>_merge</th>\n",
       "    </tr>\n",
       "  </thead>\n",
       "  <tbody>\n",
       "    <tr>\n",
       "      <th>0</th>\n",
       "      <td>60576adae9e8507769ecaab6</td>\n",
       "      <td>21-03-2021</td>\n",
       "      <td>left_only</td>\n",
       "    </tr>\n",
       "    <tr>\n",
       "      <th>1</th>\n",
       "      <td>60576abde9e8507769ecaab5</td>\n",
       "      <td>21-03-2021</td>\n",
       "      <td>left_only</td>\n",
       "    </tr>\n",
       "    <tr>\n",
       "      <th>2</th>\n",
       "      <td>60573f79e9e8507769ecaab3</td>\n",
       "      <td>21-03-2021</td>\n",
       "      <td>left_only</td>\n",
       "    </tr>\n",
       "    <tr>\n",
       "      <th>3</th>\n",
       "      <td>6056341de9e8507769ecaaa0</td>\n",
       "      <td>20-03-2021</td>\n",
       "      <td>left_only</td>\n",
       "    </tr>\n",
       "    <tr>\n",
       "      <th>4</th>\n",
       "      <td>6055f2a4e9e8507769ecaa9c</td>\n",
       "      <td>20-03-2021</td>\n",
       "      <td>left_only</td>\n",
       "    </tr>\n",
       "  </tbody>\n",
       "</table>\n",
       "</div>"
      ],
      "text/plain": [
       "                        _id   createdAt     _merge\n",
       "0  60576adae9e8507769ecaab6  21-03-2021  left_only\n",
       "1  60576abde9e8507769ecaab5  21-03-2021  left_only\n",
       "2  60573f79e9e8507769ecaab3  21-03-2021  left_only\n",
       "3  6056341de9e8507769ecaaa0  20-03-2021  left_only\n",
       "4  6055f2a4e9e8507769ecaa9c  20-03-2021  left_only"
      ]
     },
     "execution_count": 95,
     "metadata": {},
     "output_type": "execute_result"
    }
   ],
   "source": [
    "records_df = records_df[[\"ID\"]]\n",
    "df_all = temp.merge(records_df, left_on='_id', right_on='ID', how='left', indicator=True)\n",
    "df_all[[\"_id\", \"createdAt\", '_merge']].head()"
   ]
  },
  {
   "cell_type": "code",
   "execution_count": 96,
   "id": "important-hampton",
   "metadata": {},
   "outputs": [
    {
     "data": {
      "text/html": [
       "<div>\n",
       "<style scoped>\n",
       "    .dataframe tbody tr th:only-of-type {\n",
       "        vertical-align: middle;\n",
       "    }\n",
       "\n",
       "    .dataframe tbody tr th {\n",
       "        vertical-align: top;\n",
       "    }\n",
       "\n",
       "    .dataframe thead th {\n",
       "        text-align: right;\n",
       "    }\n",
       "</style>\n",
       "<table border=\"1\" class=\"dataframe\">\n",
       "  <thead>\n",
       "    <tr style=\"text-align: right;\">\n",
       "      <th></th>\n",
       "      <th>_id</th>\n",
       "      <th>createdAt</th>\n",
       "      <th>classRoom</th>\n",
       "      <th>role</th>\n",
       "    </tr>\n",
       "  </thead>\n",
       "  <tbody>\n",
       "    <tr>\n",
       "      <th>0</th>\n",
       "      <td>60576adae9e8507769ecaab6</td>\n",
       "      <td>21-03-2021</td>\n",
       "      <td>O Level</td>\n",
       "      <td>student</td>\n",
       "    </tr>\n",
       "    <tr>\n",
       "      <th>1</th>\n",
       "      <td>60576abde9e8507769ecaab5</td>\n",
       "      <td>21-03-2021</td>\n",
       "      <td>A Level</td>\n",
       "      <td>student</td>\n",
       "    </tr>\n",
       "    <tr>\n",
       "      <th>2</th>\n",
       "      <td>60573f79e9e8507769ecaab3</td>\n",
       "      <td>21-03-2021</td>\n",
       "      <td>O Level</td>\n",
       "      <td>student</td>\n",
       "    </tr>\n",
       "    <tr>\n",
       "      <th>3</th>\n",
       "      <td>6056341de9e8507769ecaaa0</td>\n",
       "      <td>20-03-2021</td>\n",
       "      <td>5fc7e9d081d90062ab3d6395</td>\n",
       "      <td>student</td>\n",
       "    </tr>\n",
       "    <tr>\n",
       "      <th>4</th>\n",
       "      <td>6055f2a4e9e8507769ecaa9c</td>\n",
       "      <td>20-03-2021</td>\n",
       "      <td>O Level</td>\n",
       "      <td>student</td>\n",
       "    </tr>\n",
       "  </tbody>\n",
       "</table>\n",
       "</div>"
      ],
      "text/plain": [
       "                        _id   createdAt                 classRoom     role\n",
       "0  60576adae9e8507769ecaab6  21-03-2021                   O Level  student\n",
       "1  60576abde9e8507769ecaab5  21-03-2021                   A Level  student\n",
       "2  60573f79e9e8507769ecaab3  21-03-2021                   O Level  student\n",
       "3  6056341de9e8507769ecaaa0  20-03-2021  5fc7e9d081d90062ab3d6395  student\n",
       "4  6055f2a4e9e8507769ecaa9c  20-03-2021                   O Level  student"
      ]
     },
     "execution_count": 96,
     "metadata": {},
     "output_type": "execute_result"
    }
   ],
   "source": [
    "newUpdates = df_all[df_all['_merge'] == 'left_only']\n",
    "newUpdates = newUpdates[[\"_id\", \"name\", \"createdAt\", \"classRoom\", \"phone\", \"role\"]]\n",
    "newUpdates[[\"_id\", \"createdAt\", \"classRoom\", \"role\"]].head()"
   ]
  },
  {
   "cell_type": "markdown",
   "id": "graduate-dutch",
   "metadata": {},
   "source": [
    "### Pushing new data back to spreadsheet"
   ]
  },
  {
   "cell_type": "code",
   "execution_count": 97,
   "id": "decreased-holocaust",
   "metadata": {},
   "outputs": [],
   "source": [
    "temp_push = newUpdates.values.tolist()"
   ]
  },
  {
   "cell_type": "code",
   "execution_count": 98,
   "id": "thirty-ceiling",
   "metadata": {
    "scrolled": false
   },
   "outputs": [
    {
     "data": {
      "text/plain": [
       "{'spreadsheetId': '1muHApHGELHqIwoHL2eMB_YEzGdNDzUYxkdD5I6WZrFU',\n",
       " 'updates': {'spreadsheetId': '1muHApHGELHqIwoHL2eMB_YEzGdNDzUYxkdD5I6WZrFU',\n",
       "  'updatedRange': 'Automation!A2:F1567',\n",
       "  'updatedRows': 1566,\n",
       "  'updatedColumns': 6,\n",
       "  'updatedCells': 9396}}"
      ]
     },
     "execution_count": 98,
     "metadata": {},
     "output_type": "execute_result"
    }
   ],
   "source": [
    "sheet_instance.insert_rows(row = 2, values = temp_push)"
   ]
  },
  {
   "cell_type": "markdown",
   "id": "union-breeding",
   "metadata": {},
   "source": [
    "## Extra (Appendix): supporting codes"
   ]
  },
  {
   "cell_type": "code",
   "execution_count": null,
   "id": "absent-department",
   "metadata": {},
   "outputs": [],
   "source": [
    "dw = pd.DataFrame(columns=['id', 'Name','Register_date', 'section', 'number', 'category', 'country', 'city'])\n",
    "\n",
    "for i in dictionary[\"data\"]:\n",
    "    try:\n",
    "        dw = dw.append({'id': i[\"_id\"], 'Name': i[\"name\"], 'section': i['classRoom'], 'number': i['phone'], 'category': i[\"role\"], 'Register_date': i[\"createdAt\"], 'country': i[\"country\"], 'city': i[\"city\"]}, ignore_index=True)\n",
    "    except:\n",
    "        dw = dw.append({'id': i[\"_id\"], 'section': i['classRoom'], 'number': i['phone'], 'Name': i[\"name\"], 'category': i[\"role\"], 'Register_date': i[\"createdAt\"], 'country': i[\"country\"], 'city': np.nan}, ignore_index=True)"
   ]
  }
 ],
 "metadata": {
  "kernelspec": {
   "display_name": "Python 3",
   "language": "python",
   "name": "python3"
  },
  "language_info": {
   "codemirror_mode": {
    "name": "ipython",
    "version": 3
   },
   "file_extension": ".py",
   "mimetype": "text/x-python",
   "name": "python",
   "nbconvert_exporter": "python",
   "pygments_lexer": "ipython3",
   "version": "3.7.9"
  }
 },
 "nbformat": 4,
 "nbformat_minor": 5
}
